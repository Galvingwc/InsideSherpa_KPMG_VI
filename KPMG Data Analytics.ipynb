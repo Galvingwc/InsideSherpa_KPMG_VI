{
 "cells": [
  {
   "cell_type": "code",
   "execution_count": 1,
   "metadata": {},
   "outputs": [],
   "source": [
    "#import libraries\n",
    "import numpy as np\n",
    "import pandas as pd\n",
    "\n",
    "from sklearn.preprocessing import LabelEncoder\n",
    "\n",
    "from sklearn.linear_model import LogisticRegression\n",
    "from sklearn.svm import SVC\n",
    "from sklearn.tree import DecisionTreeClassifier\n",
    "from sklearn.neighbors import KNeighborsClassifier"
   ]
  },
  {
   "cell_type": "code",
   "execution_count": 2,
   "metadata": {},
   "outputs": [],
   "source": [
    "#import dataframes\n",
    "cusdemo_df = pd.read_excel(r\"C:\\Users\\Galvin\\Desktop\\KPMG Virtual Internship\\KPMG_VI_New_raw_data_update_final.xlsx\",\n",
    "                          sheet_name=3,\n",
    "                          header=1,\n",
    "                          skiprows=0,\n",
    "                          )\n",
    "\n",
    "cusadd_df = pd.read_excel(r\"C:\\Users\\Galvin\\Desktop\\KPMG Virtual Internship\\KPMG_VI_New_raw_data_update_final.xlsx\",\n",
    "                          sheet_name=4,\n",
    "                          header=1,\n",
    "                          skiprows=0,\n",
    "                          )\n",
    "\n",
    "newcus_df = pd.read_excel(r\"C:\\Users\\Galvin\\Desktop\\KPMG Virtual Internship\\KPMG_VI_New_raw_data_update_final.xlsx\",\n",
    "                          sheet_name=2,\n",
    "                          header=1,\n",
    "                          skiprows=0,\n",
    "                          )"
   ]
  },
  {
   "cell_type": "code",
   "execution_count": 3,
   "metadata": {},
   "outputs": [],
   "source": [
    "#merge dataframes\n",
    "oldcus_df = pd.merge(cusdemo_df, cusadd_df, on=['customer_id'])"
   ]
  },
  {
   "cell_type": "code",
   "execution_count": 4,
   "metadata": {},
   "outputs": [],
   "source": [
    "#drop redundant columns\n",
    "oldcus_df.drop(columns=['customer_id', 'first_name', 'last_name', 'deceased_indicator', 'address', 'country'], inplace=True)\n",
    "newcus_df.drop(columns=['first_name', 'last_name', 'deceased_indicator', 'address', 'country'], inplace=True)"
   ]
  },
  {
   "cell_type": "code",
   "execution_count": 5,
   "metadata": {},
   "outputs": [
    {
     "data": {
      "text/plain": [
       "((3496, 12), (1000, 11))"
      ]
     },
     "execution_count": 5,
     "metadata": {},
     "output_type": "execute_result"
    }
   ],
   "source": [
    "#check dimensions\n",
    "oldcus_df.shape, newcus_df.shape"
   ]
  },
  {
   "cell_type": "code",
   "execution_count": 6,
   "metadata": {},
   "outputs": [],
   "source": [
    "#fill blanks with values\n",
    "oldcus_df.fillna(oldcus_df.mean(), inplace=True)\n",
    "oldcus_df.fillna({'gender':'Female', 'job_title':'Business Systems Development Analyst', \n",
    "                         'job_industry_category':'Manufacturing', 'DOB':'1978-01-30'}, inplace=True)\n",
    "\n",
    "newcus_df.fillna(newcus_df.mean(), inplace=True)\n",
    "newcus_df.fillna({'gender':'Female', 'job_title':'Associate Professor', \n",
    "                         'job_industry_category':'Financial Services', 'DOB':'1961-07-31'}, inplace=True)"
   ]
  },
  {
   "cell_type": "code",
   "execution_count": 7,
   "metadata": {},
   "outputs": [
    {
     "data": {
      "text/plain": [
       "gender                                 0\n",
       "past_3_years_bike_related_purchases    0\n",
       "DOB                                    0\n",
       "job_title                              0\n",
       "job_industry_category                  0\n",
       "wealth_segment                         0\n",
       "owns_car                               0\n",
       "tenure                                 0\n",
       "postcode                               0\n",
       "state                                  0\n",
       "property_valuation                     0\n",
       "total_revenue                          0\n",
       "dtype: int64"
      ]
     },
     "execution_count": 7,
     "metadata": {},
     "output_type": "execute_result"
    }
   ],
   "source": [
    "#check completeness\n",
    "oldcus_df.isnull().sum()"
   ]
  },
  {
   "cell_type": "code",
   "execution_count": 8,
   "metadata": {},
   "outputs": [
    {
     "data": {
      "text/plain": [
       "gender                                 0\n",
       "past_3_years_bike_related_purchases    0\n",
       "DOB                                    0\n",
       "job_title                              0\n",
       "job_industry_category                  0\n",
       "wealth_segment                         0\n",
       "owns_car                               0\n",
       "tenure                                 0\n",
       "postcode                               0\n",
       "state                                  0\n",
       "property_valuation                     0\n",
       "dtype: int64"
      ]
     },
     "execution_count": 8,
     "metadata": {},
     "output_type": "execute_result"
    }
   ],
   "source": [
    "#check completeness\n",
    "newcus_df.isnull().sum()"
   ]
  },
  {
   "cell_type": "code",
   "execution_count": 9,
   "metadata": {},
   "outputs": [],
   "source": [
    "#convert DOB to age\n",
    "old_year = pd.DatetimeIndex(oldcus_df['DOB']).year\n",
    "new_year = pd.DatetimeIndex(newcus_df['DOB']).year\n",
    "old_age = 2018 - old_year\n",
    "new_age = 2018 - new_year\n",
    "oldcus_df.insert(2,column='age', value=old_age)\n",
    "newcus_df.insert(2,column='age', value=new_age)\n",
    "oldcus_df.drop(columns=['DOB'], inplace=True)\n",
    "newcus_df.drop(columns=['DOB'], inplace=True)"
   ]
  },
  {
   "cell_type": "code",
   "execution_count": 10,
   "metadata": {},
   "outputs": [],
   "source": [
    "#dataframe of categorical variables\n",
    "oldcus_df_cat = oldcus_df[['gender', 'job_title', 'job_industry_category', 'wealth_segment', 'owns_car', 'state']]\n",
    "newcus_df_cat = newcus_df[['gender', 'job_title', 'job_industry_category', 'wealth_segment', 'owns_car', 'state']]"
   ]
  },
  {
   "cell_type": "code",
   "execution_count": 11,
   "metadata": {},
   "outputs": [],
   "source": [
    "#encode categorical variables\n",
    "le = LabelEncoder()\n",
    "oldcus_df_cat_enc = oldcus_df_cat.apply(le.fit_transform)\n",
    "newcus_df_cat_enc = newcus_df_cat.apply(le.fit_transform)"
   ]
  },
  {
   "cell_type": "code",
   "execution_count": 12,
   "metadata": {},
   "outputs": [],
   "source": [
    "#create encoded dataframe\n",
    "oldcus_df[['gender', 'job_title', 'job_industry_category', 'wealth_segment', 'owns_car', 'state']]  = oldcus_df_cat_enc[['gender', 'job_title', 'job_industry_category', 'wealth_segment', 'owns_car', 'state']]\n",
    "newcus_df[['gender', 'job_title', 'job_industry_category', 'wealth_segment', 'owns_car', 'state']]  = newcus_df_cat_enc[['gender', 'job_title', 'job_industry_category', 'wealth_segment', 'owns_car', 'state']]"
   ]
  },
  {
   "cell_type": "code",
   "execution_count": 13,
   "metadata": {},
   "outputs": [],
   "source": [
    "#categorise prediction variable\n",
    "bin_labels = ['L', 'M', 'H', 'VH']\n",
    "oldcus_df['total_revenue_enc'] = pd.qcut(oldcus_df['total_revenue'],\n",
    "                              q=4,\n",
    "                              labels=bin_labels)"
   ]
  },
  {
   "cell_type": "code",
   "execution_count": 20,
   "metadata": {},
   "outputs": [
    {
     "data": {
      "text/plain": [
       "gender                                 0.007438\n",
       "past_3_years_bike_related_purchases    0.003122\n",
       "age                                   -0.005675\n",
       "job_title                             -0.011971\n",
       "job_industry_category                  0.008362\n",
       "wealth_segment                        -0.004060\n",
       "owns_car                              -0.009989\n",
       "tenure                                 0.009486\n",
       "postcode                               0.009573\n",
       "state                                  0.002509\n",
       "property_valuation                    -0.014971\n",
       "total_revenue                          1.000000\n",
       "Name: total_revenue, dtype: float64"
      ]
     },
     "execution_count": 20,
     "metadata": {},
     "output_type": "execute_result"
    }
   ],
   "source": [
    "#check correlation\n",
    "oldcus_df.corr()['total_revenue']"
   ]
  },
  {
   "cell_type": "code",
   "execution_count": 15,
   "metadata": {},
   "outputs": [],
   "source": [
    "#split data features\n",
    "x_train = oldcus_df.drop(columns=['total_revenue', 'total_revenue_enc'])\n",
    "y_train = oldcus_df['total_revenue_enc']"
   ]
  },
  {
   "cell_type": "code",
   "execution_count": 16,
   "metadata": {},
   "outputs": [
    {
     "data": {
      "text/plain": [
       "1.0"
      ]
     },
     "execution_count": 16,
     "metadata": {},
     "output_type": "execute_result"
    }
   ],
   "source": [
    "#train and evaluate model\n",
    "dectree = DecisionTreeClassifier()\n",
    "dectree.fit(x_train, y_train)\n",
    "acc_dectree = dectree.score(x_train, y_train)\n",
    "acc_dectree"
   ]
  },
  {
   "cell_type": "code",
   "execution_count": 17,
   "metadata": {},
   "outputs": [
    {
     "data": {
      "text/plain": [
       "array(['L', 'L', 'H', 'VH', 'VH', 'VH', 'VH', 'VH', 'M', 'L', 'L', 'L',\n",
       "       'M', 'M', 'VH', 'L', 'H', 'M', 'H', 'M', 'VH', 'VH', 'L', 'L', 'L',\n",
       "       'VH', 'L', 'VH', 'VH', 'H', 'L', 'H', 'M', 'L', 'M', 'VH', 'M',\n",
       "       'M', 'L', 'L', 'L', 'M', 'VH', 'H', 'L', 'M', 'M', 'H', 'L', 'H',\n",
       "       'L', 'L', 'L', 'H', 'L', 'H', 'M', 'H', 'VH', 'H', 'H', 'M', 'H',\n",
       "       'M', 'H', 'L', 'VH', 'M', 'L', 'M', 'H', 'L', 'M', 'VH', 'VH', 'L',\n",
       "       'L', 'H', 'VH', 'M', 'H', 'H', 'H', 'VH', 'VH', 'VH', 'L', 'VH',\n",
       "       'H', 'H', 'L', 'VH', 'VH', 'M', 'M', 'M', 'M', 'VH', 'H', 'M', 'H',\n",
       "       'VH', 'H', 'L', 'H', 'M', 'H', 'M', 'M', 'H', 'H', 'VH', 'M', 'H',\n",
       "       'H', 'M', 'VH', 'H', 'VH', 'L', 'L', 'L', 'L', 'L', 'VH', 'M', 'L',\n",
       "       'VH', 'L', 'L', 'VH', 'L', 'H', 'M', 'VH', 'H', 'M', 'L', 'H', 'H',\n",
       "       'L', 'VH', 'M', 'L', 'M', 'L', 'M', 'L', 'H', 'H', 'M', 'VH', 'M',\n",
       "       'VH', 'H', 'H', 'H', 'M', 'H', 'L', 'M', 'L', 'M', 'L', 'VH', 'M',\n",
       "       'L', 'L', 'H', 'VH', 'L', 'M', 'H', 'M', 'M', 'M', 'L', 'H', 'L',\n",
       "       'VH', 'VH', 'L', 'L', 'L', 'H', 'L', 'L', 'M', 'H', 'H', 'VH', 'H',\n",
       "       'M', 'H', 'H', 'VH', 'H', 'VH', 'L', 'L', 'H', 'H', 'H', 'VH', 'L',\n",
       "       'L', 'L', 'VH', 'M', 'VH', 'H', 'VH', 'M', 'L', 'H', 'M', 'L',\n",
       "       'VH', 'VH', 'L', 'L', 'M', 'VH', 'H', 'VH', 'M', 'L', 'VH', 'L',\n",
       "       'L', 'H', 'VH', 'M', 'VH', 'L', 'L', 'H', 'H', 'H', 'H', 'H', 'VH',\n",
       "       'VH', 'H', 'H', 'VH', 'VH', 'L', 'VH', 'L', 'VH', 'L', 'VH', 'L',\n",
       "       'M', 'H', 'VH', 'L', 'H', 'VH', 'M', 'M', 'H', 'H', 'M', 'H', 'H',\n",
       "       'M', 'H', 'L', 'M', 'M', 'VH', 'M', 'L', 'M', 'M', 'L', 'L', 'VH',\n",
       "       'L', 'VH', 'H', 'H', 'L', 'L', 'VH', 'L', 'M', 'VH', 'H', 'H',\n",
       "       'VH', 'VH', 'L', 'L', 'VH', 'VH', 'M', 'VH', 'L', 'VH', 'L', 'VH',\n",
       "       'VH', 'H', 'L', 'H', 'H', 'M', 'M', 'VH', 'L', 'M', 'M', 'VH', 'M',\n",
       "       'M', 'L', 'VH', 'L', 'H', 'H', 'VH', 'M', 'H', 'H', 'VH', 'VH',\n",
       "       'H', 'M', 'VH', 'L', 'VH', 'VH', 'M', 'VH', 'L', 'VH', 'M', 'M',\n",
       "       'L', 'VH', 'H', 'VH', 'VH', 'M', 'H', 'H', 'H', 'H', 'H', 'L', 'M',\n",
       "       'VH', 'H', 'M', 'VH', 'H', 'L', 'M', 'VH', 'L', 'VH', 'L', 'H',\n",
       "       'L', 'L', 'VH', 'M', 'VH', 'M', 'VH', 'H', 'L', 'M', 'H', 'L',\n",
       "       'VH', 'M', 'H', 'H', 'VH', 'H', 'M', 'M', 'M', 'M', 'M', 'M', 'VH',\n",
       "       'L', 'H', 'L', 'H', 'M', 'H', 'L', 'VH', 'H', 'L', 'L', 'L', 'M',\n",
       "       'H', 'M', 'L', 'VH', 'H', 'VH', 'L', 'L', 'L', 'H', 'VH', 'M', 'M',\n",
       "       'L', 'H', 'H', 'VH', 'M', 'H', 'VH', 'M', 'H', 'H', 'VH', 'VH',\n",
       "       'L', 'L', 'VH', 'L', 'VH', 'H', 'H', 'M', 'H', 'L', 'M', 'VH', 'H',\n",
       "       'M', 'H', 'VH', 'M', 'VH', 'L', 'M', 'H', 'VH', 'L', 'M', 'H', 'L',\n",
       "       'H', 'L', 'H', 'H', 'VH', 'L', 'L', 'H', 'M', 'M', 'M', 'VH', 'M',\n",
       "       'H', 'VH', 'L', 'H', 'M', 'L', 'VH', 'VH', 'M', 'M', 'L', 'VH',\n",
       "       'VH', 'VH', 'H', 'L', 'H', 'H', 'L', 'VH', 'H', 'VH', 'L', 'L',\n",
       "       'M', 'L', 'VH', 'VH', 'VH', 'H', 'VH', 'VH', 'H', 'L', 'VH', 'L',\n",
       "       'H', 'L', 'M', 'H', 'M', 'L', 'VH', 'L', 'M', 'VH', 'VH', 'L', 'M',\n",
       "       'VH', 'L', 'L', 'VH', 'L', 'L', 'M', 'H', 'M', 'H', 'M', 'L', 'L',\n",
       "       'VH', 'L', 'L', 'H', 'L', 'M', 'H', 'VH', 'L', 'H', 'M', 'VH',\n",
       "       'VH', 'VH', 'M', 'H', 'VH', 'VH', 'M', 'VH', 'VH', 'M', 'H', 'H',\n",
       "       'H', 'L', 'M', 'VH', 'M', 'L', 'VH', 'L', 'M', 'VH', 'M', 'L',\n",
       "       'VH', 'L', 'H', 'VH', 'L', 'H', 'L', 'M', 'H', 'L', 'M', 'VH', 'M',\n",
       "       'M', 'H', 'H', 'L', 'VH', 'M', 'VH', 'VH', 'VH', 'M', 'L', 'H',\n",
       "       'M', 'L', 'M', 'VH', 'M', 'M', 'VH', 'H', 'H', 'H', 'M', 'H', 'VH',\n",
       "       'VH', 'VH', 'M', 'VH', 'M', 'L', 'L', 'VH', 'L', 'H', 'VH', 'L',\n",
       "       'VH', 'VH', 'L', 'L', 'H', 'L', 'M', 'L', 'L', 'L', 'VH', 'L', 'L',\n",
       "       'VH', 'VH', 'M', 'M', 'L', 'H', 'VH', 'M', 'L', 'VH', 'L', 'VH',\n",
       "       'H', 'VH', 'L', 'H', 'H', 'H', 'L', 'M', 'VH', 'H', 'VH', 'L', 'H',\n",
       "       'M', 'H', 'H', 'VH', 'VH', 'H', 'L', 'H', 'M', 'VH', 'L', 'VH',\n",
       "       'H', 'VH', 'H', 'L', 'L', 'M', 'VH', 'M', 'H', 'M', 'VH', 'VH',\n",
       "       'M', 'M', 'H', 'VH', 'H', 'H', 'L', 'L', 'L', 'L', 'M', 'M', 'H',\n",
       "       'L', 'VH', 'L', 'M', 'H', 'H', 'L', 'M', 'VH', 'L', 'VH', 'H', 'M',\n",
       "       'L', 'L', 'L', 'L', 'L', 'M', 'M', 'L', 'H', 'L', 'VH', 'VH', 'L',\n",
       "       'L', 'H', 'H', 'M', 'L', 'M', 'VH', 'L', 'L', 'VH', 'H', 'M', 'VH',\n",
       "       'VH', 'L', 'H', 'M', 'M', 'VH', 'H', 'VH', 'VH', 'VH', 'L', 'M',\n",
       "       'H', 'M', 'H', 'VH', 'L', 'M', 'H', 'L', 'M', 'H', 'M', 'VH', 'M',\n",
       "       'L', 'M', 'L', 'VH', 'L', 'L', 'H', 'M', 'VH', 'L', 'VH', 'M', 'M',\n",
       "       'H', 'VH', 'M', 'L', 'L', 'L', 'L', 'L', 'H', 'H', 'H', 'M', 'H',\n",
       "       'L', 'L', 'M', 'VH', 'H', 'L', 'H', 'M', 'M', 'H', 'L', 'VH', 'VH',\n",
       "       'M', 'VH', 'L', 'L', 'L', 'H', 'VH', 'H', 'VH', 'H', 'H', 'H', 'M',\n",
       "       'M', 'L', 'H', 'L', 'VH', 'VH', 'VH', 'L', 'L', 'H', 'L', 'L', 'M',\n",
       "       'L', 'L', 'L', 'L', 'L', 'L', 'H', 'VH', 'VH', 'L', 'VH', 'VH',\n",
       "       'VH', 'L', 'VH', 'VH', 'L', 'L', 'M', 'M', 'H', 'M', 'VH', 'M',\n",
       "       'H', 'L', 'H', 'L', 'L', 'L', 'H', 'L', 'H', 'M', 'M', 'L', 'VH',\n",
       "       'VH', 'M', 'VH', 'M', 'L', 'L', 'L', 'H', 'H', 'VH', 'VH', 'M',\n",
       "       'M', 'L', 'VH', 'L', 'VH', 'M', 'VH', 'H', 'L', 'VH', 'L', 'L',\n",
       "       'H', 'H', 'L', 'M', 'VH', 'M', 'L', 'L', 'H', 'L', 'M', 'VH', 'H',\n",
       "       'M', 'H', 'L', 'VH', 'M', 'L', 'L', 'H', 'VH', 'M', 'L', 'VH',\n",
       "       'VH', 'M', 'M', 'L', 'H', 'H', 'L', 'H', 'H', 'L', 'VH', 'L', 'M',\n",
       "       'H', 'VH', 'VH', 'H', 'VH', 'L', 'H', 'H', 'M', 'M', 'VH', 'L',\n",
       "       'H', 'M', 'L', 'VH', 'M', 'VH', 'L', 'VH', 'M', 'VH', 'H', 'VH',\n",
       "       'M', 'L', 'L', 'L', 'L', 'VH', 'H', 'H', 'L', 'M', 'VH', 'VH', 'H',\n",
       "       'H', 'VH', 'L', 'M', 'VH', 'H', 'H', 'VH', 'M', 'VH', 'M', 'M',\n",
       "       'VH', 'M', 'VH', 'L', 'VH', 'L', 'VH', 'L', 'L', 'L', 'VH', 'M',\n",
       "       'M', 'VH', 'L', 'H', 'M', 'H', 'M', 'H', 'L', 'L', 'L', 'M', 'H',\n",
       "       'H', 'L', 'H', 'VH', 'M', 'M', 'VH'], dtype=object)"
      ]
     },
     "execution_count": 17,
     "metadata": {},
     "output_type": "execute_result"
    }
   ],
   "source": [
    "#make predictions\n",
    "pred = dectree.predict(newcus_df)\n",
    "pred"
   ]
  },
  {
   "cell_type": "code",
   "execution_count": 18,
   "metadata": {},
   "outputs": [
    {
     "data": {
      "text/html": [
       "<div>\n",
       "<style scoped>\n",
       "    .dataframe tbody tr th:only-of-type {\n",
       "        vertical-align: middle;\n",
       "    }\n",
       "\n",
       "    .dataframe tbody tr th {\n",
       "        vertical-align: top;\n",
       "    }\n",
       "\n",
       "    .dataframe thead th {\n",
       "        text-align: right;\n",
       "    }\n",
       "</style>\n",
       "<table border=\"1\" class=\"dataframe\">\n",
       "  <thead>\n",
       "    <tr style=\"text-align: right;\">\n",
       "      <th></th>\n",
       "      <th>gender</th>\n",
       "      <th>past_3_years_bike_related_purchases</th>\n",
       "      <th>age</th>\n",
       "      <th>job_title</th>\n",
       "      <th>job_industry_category</th>\n",
       "      <th>wealth_segment</th>\n",
       "      <th>owns_car</th>\n",
       "      <th>tenure</th>\n",
       "      <th>postcode</th>\n",
       "      <th>state</th>\n",
       "      <th>property_valuation</th>\n",
       "      <th>prediction</th>\n",
       "    </tr>\n",
       "  </thead>\n",
       "  <tbody>\n",
       "    <tr>\n",
       "      <td>0</td>\n",
       "      <td>1</td>\n",
       "      <td>86</td>\n",
       "      <td>61</td>\n",
       "      <td>71</td>\n",
       "      <td>5</td>\n",
       "      <td>2</td>\n",
       "      <td>1</td>\n",
       "      <td>14</td>\n",
       "      <td>4500</td>\n",
       "      <td>1</td>\n",
       "      <td>6</td>\n",
       "      <td>L</td>\n",
       "    </tr>\n",
       "    <tr>\n",
       "      <td>1</td>\n",
       "      <td>1</td>\n",
       "      <td>69</td>\n",
       "      <td>48</td>\n",
       "      <td>165</td>\n",
       "      <td>6</td>\n",
       "      <td>2</td>\n",
       "      <td>0</td>\n",
       "      <td>16</td>\n",
       "      <td>2113</td>\n",
       "      <td>0</td>\n",
       "      <td>11</td>\n",
       "      <td>L</td>\n",
       "    </tr>\n",
       "    <tr>\n",
       "      <td>2</td>\n",
       "      <td>0</td>\n",
       "      <td>10</td>\n",
       "      <td>44</td>\n",
       "      <td>139</td>\n",
       "      <td>2</td>\n",
       "      <td>0</td>\n",
       "      <td>0</td>\n",
       "      <td>10</td>\n",
       "      <td>3505</td>\n",
       "      <td>2</td>\n",
       "      <td>5</td>\n",
       "      <td>H</td>\n",
       "    </tr>\n",
       "    <tr>\n",
       "      <td>3</td>\n",
       "      <td>0</td>\n",
       "      <td>64</td>\n",
       "      <td>39</td>\n",
       "      <td>4</td>\n",
       "      <td>5</td>\n",
       "      <td>0</td>\n",
       "      <td>1</td>\n",
       "      <td>5</td>\n",
       "      <td>4814</td>\n",
       "      <td>1</td>\n",
       "      <td>1</td>\n",
       "      <td>VH</td>\n",
       "    </tr>\n",
       "    <tr>\n",
       "      <td>4</td>\n",
       "      <td>0</td>\n",
       "      <td>34</td>\n",
       "      <td>53</td>\n",
       "      <td>68</td>\n",
       "      <td>2</td>\n",
       "      <td>0</td>\n",
       "      <td>0</td>\n",
       "      <td>19</td>\n",
       "      <td>2093</td>\n",
       "      <td>0</td>\n",
       "      <td>9</td>\n",
       "      <td>VH</td>\n",
       "    </tr>\n",
       "    <tr>\n",
       "      <td>...</td>\n",
       "      <td>...</td>\n",
       "      <td>...</td>\n",
       "      <td>...</td>\n",
       "      <td>...</td>\n",
       "      <td>...</td>\n",
       "      <td>...</td>\n",
       "      <td>...</td>\n",
       "      <td>...</td>\n",
       "      <td>...</td>\n",
       "      <td>...</td>\n",
       "      <td>...</td>\n",
       "      <td>...</td>\n",
       "    </tr>\n",
       "    <tr>\n",
       "      <td>995</td>\n",
       "      <td>1</td>\n",
       "      <td>60</td>\n",
       "      <td>59</td>\n",
       "      <td>108</td>\n",
       "      <td>2</td>\n",
       "      <td>0</td>\n",
       "      <td>0</td>\n",
       "      <td>9</td>\n",
       "      <td>2200</td>\n",
       "      <td>0</td>\n",
       "      <td>7</td>\n",
       "      <td>H</td>\n",
       "    </tr>\n",
       "    <tr>\n",
       "      <td>996</td>\n",
       "      <td>1</td>\n",
       "      <td>22</td>\n",
       "      <td>17</td>\n",
       "      <td>144</td>\n",
       "      <td>3</td>\n",
       "      <td>2</td>\n",
       "      <td>0</td>\n",
       "      <td>6</td>\n",
       "      <td>2196</td>\n",
       "      <td>0</td>\n",
       "      <td>10</td>\n",
       "      <td>VH</td>\n",
       "    </tr>\n",
       "    <tr>\n",
       "      <td>997</td>\n",
       "      <td>0</td>\n",
       "      <td>17</td>\n",
       "      <td>64</td>\n",
       "      <td>32</td>\n",
       "      <td>2</td>\n",
       "      <td>0</td>\n",
       "      <td>1</td>\n",
       "      <td>15</td>\n",
       "      <td>4702</td>\n",
       "      <td>1</td>\n",
       "      <td>2</td>\n",
       "      <td>M</td>\n",
       "    </tr>\n",
       "    <tr>\n",
       "      <td>998</td>\n",
       "      <td>1</td>\n",
       "      <td>30</td>\n",
       "      <td>66</td>\n",
       "      <td>67</td>\n",
       "      <td>2</td>\n",
       "      <td>2</td>\n",
       "      <td>1</td>\n",
       "      <td>19</td>\n",
       "      <td>4215</td>\n",
       "      <td>1</td>\n",
       "      <td>2</td>\n",
       "      <td>M</td>\n",
       "    </tr>\n",
       "    <tr>\n",
       "      <td>999</td>\n",
       "      <td>1</td>\n",
       "      <td>56</td>\n",
       "      <td>63</td>\n",
       "      <td>158</td>\n",
       "      <td>6</td>\n",
       "      <td>2</td>\n",
       "      <td>1</td>\n",
       "      <td>14</td>\n",
       "      <td>2010</td>\n",
       "      <td>0</td>\n",
       "      <td>9</td>\n",
       "      <td>VH</td>\n",
       "    </tr>\n",
       "  </tbody>\n",
       "</table>\n",
       "<p>1000 rows × 12 columns</p>\n",
       "</div>"
      ],
      "text/plain": [
       "     gender  past_3_years_bike_related_purchases  age  job_title  \\\n",
       "0         1                                   86   61         71   \n",
       "1         1                                   69   48        165   \n",
       "2         0                                   10   44        139   \n",
       "3         0                                   64   39          4   \n",
       "4         0                                   34   53         68   \n",
       "..      ...                                  ...  ...        ...   \n",
       "995       1                                   60   59        108   \n",
       "996       1                                   22   17        144   \n",
       "997       0                                   17   64         32   \n",
       "998       1                                   30   66         67   \n",
       "999       1                                   56   63        158   \n",
       "\n",
       "     job_industry_category  wealth_segment  owns_car  tenure  postcode  state  \\\n",
       "0                        5               2         1      14      4500      1   \n",
       "1                        6               2         0      16      2113      0   \n",
       "2                        2               0         0      10      3505      2   \n",
       "3                        5               0         1       5      4814      1   \n",
       "4                        2               0         0      19      2093      0   \n",
       "..                     ...             ...       ...     ...       ...    ...   \n",
       "995                      2               0         0       9      2200      0   \n",
       "996                      3               2         0       6      2196      0   \n",
       "997                      2               0         1      15      4702      1   \n",
       "998                      2               2         1      19      4215      1   \n",
       "999                      6               2         1      14      2010      0   \n",
       "\n",
       "     property_valuation prediction  \n",
       "0                     6          L  \n",
       "1                    11          L  \n",
       "2                     5          H  \n",
       "3                     1         VH  \n",
       "4                     9         VH  \n",
       "..                  ...        ...  \n",
       "995                   7          H  \n",
       "996                  10         VH  \n",
       "997                   2          M  \n",
       "998                   2          M  \n",
       "999                   9         VH  \n",
       "\n",
       "[1000 rows x 12 columns]"
      ]
     },
     "execution_count": 18,
     "metadata": {},
     "output_type": "execute_result"
    }
   ],
   "source": [
    "#merge prediction with new customer dataframe\n",
    "newcus_df['prediction'] = pred\n",
    "newcus_df"
   ]
  },
  {
   "cell_type": "code",
   "execution_count": 29,
   "metadata": {},
   "outputs": [],
   "source": [
    "#save predictions to excel file\n",
    "prediction = pd.DataFrame({'prediction':pred})\n",
    "prediction.to_excel(r\"C:\\Users\\Galvin\\Desktop\\KPMG Virtual Internship\\KPMG_VI_Predictions.xlsx\", index=False)"
   ]
  }
 ],
 "metadata": {
  "kernelspec": {
   "display_name": "Python 3",
   "language": "python",
   "name": "python3"
  },
  "language_info": {
   "codemirror_mode": {
    "name": "ipython",
    "version": 3
   },
   "file_extension": ".py",
   "mimetype": "text/x-python",
   "name": "python",
   "nbconvert_exporter": "python",
   "pygments_lexer": "ipython3",
   "version": "3.7.4"
  }
 },
 "nbformat": 4,
 "nbformat_minor": 2
}
